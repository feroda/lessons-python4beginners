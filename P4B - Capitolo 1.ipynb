{
 "cells": [
  {
   "cell_type": "markdown",
   "metadata": {
    "slideshow": {
     "slide_type": "slide"
    }
   },
   "source": [
    "\n",
    "# Python2 for beginners (P4B)\n",
    "<p style=\"text-align: center;\">Luca Ferroni <luca@befair.it></p>\n",
    "\n",
    "![me](https://avatars2.githubusercontent.com/u/232176?v=3&s=230)\n",
    "\n",
    "<p style=\"text-align: center;\">http://www.befair.it<br />**Software Libero per i territori**</p>\n",
    "\n",
    "![logo](http://www.befair.it/wp-content/themes/befair-theme/img/beFair.jpg)"
   ]
  },
  {
   "cell_type": "markdown",
   "metadata": {
    "nbpresent": {
     "id": "c75585ed-ee15-42f7-9be6-10f30745b231"
    },
    "slideshow": {
     "slide_type": "slide"
    }
   },
   "source": [
    "# CAPITOLO 1: base\n"
   ]
  },
  {
   "cell_type": "markdown",
   "metadata": {
    "slideshow": {
     "slide_type": "slide"
    }
   },
   "source": [
    "# Installazione su Windows\n",
    "\n",
    "* Python con Anaconda (v. sito ufficiale di python), per ottenere:\n",
    "  * l'interprete python e l'installatore di pacchetti pip\n",
    "  * la shell interattiva IPython \n",
    "* Un editor di testo, consigliati:\n",
    "  * Notepad++\n",
    "  * Eclipse\n",
    "  * PyCharm\n",
    "  * Atom\n",
    "  * Visual Code"
   ]
  },
  {
   "cell_type": "markdown",
   "metadata": {
    "nbpresent": {
     "id": "715603c7-84d9-4892-8ce5-e92130ac1a7b"
    },
    "slideshow": {
     "slide_type": "fragment"
    }
   },
   "source": [
    "## Python's mantras\n",
    "\n",
    "* Un linguaggio pratico\n",
    "* La leggibilità conta\n",
    "* Un solo modo ovvio per fare una cosa\n",
    "* Imperativo, ad oggetti e funzionale\n",
    "* I miglioramenti vengono inseriti dai PEP\n",
    "* [La libreria python sempre sotto il cuscino!](https://docs.python.org/2.7/library/)\n"
   ]
  },
  {
   "cell_type": "markdown",
   "metadata": {
    "nbpresent": {
     "id": "fe932a52-25b7-44ed-af2c-6f7323b958b8"
    },
    "slideshow": {
     "slide_type": "slide"
    }
   },
   "source": [
    "## WARNING\n",
    "\n",
    "* Python non si riferisce al serpente\n",
    "* Ma al Monthy Python Flying Circus\n",
    "\n",
    "![Locandina](https://upload.wikimedia.org/wikipedia/en/c/cd/Monty_Python's_Flying_Circus_Title_Card.png)\n",
    "\n",
    "![IMDB](http://ia.media-imdb.com/images/M/MV5BMTIxMDI1MTgzMl5BMl5BanBnXkFtZTcwNzEyMjc2MQ@@._V1_CR0,30,250,141_AL_UX477_CR0,0,477,268_AL_.jpg)"
   ]
  },
  {
   "cell_type": "markdown",
   "metadata": {
    "nbpresent": {
     "id": "3c9a83d8-6684-42ac-a87b-15ad2cf6dc9a"
    },
    "slideshow": {
     "slide_type": "slide"
    }
   },
   "source": [
    "## E ora... \"The hello tour!\"\n",
    "\n",
    "### Il mio primo codice python\n",
    "\n"
   ]
  },
  {
   "cell_type": "code",
   "execution_count": 3,
   "metadata": {
    "collapsed": false,
    "nbpresent": {
     "id": "ddc8120d-3727-4c10-8dc8-c5b198c1c930"
    },
    "slideshow": {
     "slide_type": "slide"
    }
   },
   "outputs": [
    {
     "name": "stdout",
     "output_type": "stream",
     "text": [
      "Hello mamma!\n"
     ]
    }
   ],
   "source": [
    "# This is hello_who.py\n",
    "\n",
    "def hello(who):\n",
    "    print(\"Hello {}!\".format(who))\n",
    "\n",
    "if __name__ == \"__main__\":\n",
    "    hello(\"mamma\")"
   ]
  },
  {
   "cell_type": "markdown",
   "metadata": {
    "nbpresent": {
     "id": "71ac4a2e-fcaa-4c2f-b01a-380af31593a7"
    },
    "slideshow": {
     "slide_type": "slide"
    }
   },
   "source": [
    "### IPython compagno di sviluppo\n",
    "\n",
    "    $ ipython"
   ]
  },
  {
   "cell_type": "raw",
   "metadata": {
    "nbpresent": {
     "id": "f588155f-18cd-4ad3-bf61-12746e85cb71"
    },
    "slideshow": {
     "slide_type": "slide"
    }
   },
   "source": [
    "    Python 2.7.12 (default, Jun 28 2016, 08:31:05)\n",
    "    Type \"copyright\", \"credits\" or \"license\" for more information.\n",
    "\n",
    "    IPython 5.0.0 -- An enhanced Interactive Python.\n",
    "    ?         -> Introduction and overview of IPython's features.\n",
    "    %quickref -> Quick reference.\n",
    "    help      -> Python's own help system.\n",
    "    object?   -> Details about 'object', use 'object??' for extra details.\n",
    "\n",
    "    In [1]: %run hello_who.py\n",
    "    Hello mamma!\n",
    "\n",
    "    In [2]: !cat src/hello_who.py\n",
    "\n",
    "    def hello(who):\n",
    "        print(\"Hello {}!\".format(who))\n",
    "\n",
    "        if __name__ == \"__main__\":\n",
    "            hello(\"mamma\")\n",
    "\n"
   ]
  },
  {
   "cell_type": "markdown",
   "metadata": {
    "nbpresent": {
     "id": "d835b654-7e4e-498a-b7f6-289b3ec971d0"
    },
    "slideshow": {
     "slide_type": "slide"
    }
   },
   "source": [
    "## Tip: scopri lo Zen di Python [PEP 20](https://www.python.org/dev/peps/pep-0020/)\n",
    "\n"
   ]
  },
  {
   "cell_type": "code",
   "execution_count": 2,
   "metadata": {
    "collapsed": false,
    "nbpresent": {
     "id": "5e045cb1-1322-47d2-9852-46bbf1272f70"
    },
    "slideshow": {
     "slide_type": "slide"
    }
   },
   "outputs": [
    {
     "name": "stdout",
     "output_type": "stream",
     "text": [
      "Hello mamma!\n",
      "Hello mamma!\n"
     ]
    }
   ],
   "source": [
    "# This is hello_who.py                # <-- i commenti iniziano con `#`\n",
    "                                      #     possono essere all'inizio o a fine riga\n",
    "def hello(who):                       # <-- la funzione di definisce con `def`\n",
    "    print(\"Hello {}!\".format(who))    # <-- la stampa con `print` e le stringhe con `format`\n",
    "    print(\"Hello %s!\" % who)    # <-- la stampa con `print` e le stringhe con `format`\n",
    "\n",
    "if __name__ == \"__main__\":            # <-- [verifica di esecuzione e non di import](https://docs.python.org/2/library/__main__.html)\n",
    "    hello(\"mamma\")                    # <-- invoco la funzione con il valore\n",
    "\n"
   ]
  },
  {
   "cell_type": "markdown",
   "metadata": {},
   "source": [
    "### La leggibilità conta\n",
    "\n",
    "* Le linee guida di stile sono nel [PEP 8](https://www.python.org/dev/peps/pep-0008/)\n",
    "  * ogni azienda può averne di differenti\n",
    "\n",
    "Le classiche sono:\n",
    "\n",
    "* Indentazione con 4 spazi, e non `<TAB>`: settate il vostro editor!\n",
    "* Lunghezza della riga <= 79 caratteri\n",
    "* Spazi intorno agli operatori\n",
    "\n",
    "Le convenzioni per le `docstring` sono descritte nel [PEP 257](https://www.python.org/dev/peps/pep-0257)\n",
    "in particolare:\n",
    "\n",
    "* Se monolinea scrivere tutto su una riga\n",
    "* Se multilinea il separatore finale (\"\"\") deve essere su una linea separata.\n",
    "\n",
    "Mie convenzioni:\n",
    "\n",
    "* classi CamelCase e funzioni + variabili minuscole con _\n",
    "* il codice è scritto in inglese, in particolare i nomi delle variabili\n",
    "\n"
   ]
  },
  {
   "cell_type": "markdown",
   "metadata": {
    "collapsed": true
   },
   "source": [
    "## I tipi di dato\n",
    "\n",
    "* numeri\n",
    "* stringhe\n",
    "* tuple: (1, 2*\"a\", \"prova\", u\"ciaàà\")\n",
    "* set: { 2, 4, 6,\"a\", 123 }\n",
    "* liste: [1,2,3,10,\"a\", -12.333]\n",
    "* dizionari: { \"nome\": \"Luca\", \"cognome\": \"Ferroni\"} -> è una tabella chiave:valore"
   ]
  },
  {
   "cell_type": "markdown",
   "metadata": {},
   "source": [
    "## Cicli e strutture di controllo"
   ]
  },
  {
   "cell_type": "code",
   "execution_count": 5,
   "metadata": {
    "collapsed": false
   },
   "outputs": [
    {
     "name": "stdout",
     "output_type": "stream",
     "text": [
      "stiamo sorteggiando n\n",
      "un buon valore di n = 21\n",
      "Il risultato è = 63\n",
      "stiamo sorteggiando n\n",
      "un buon valore di n = 21\n",
      "Il risultato è = 63\n",
      "stiamo sorteggiando n\n",
      "un buon valore di n = 26\n",
      "Il risultato è = 78\n",
      "stiamo sorteggiando n\n",
      "un buon valore di n = 22\n",
      "Il risultato è = 66\n",
      "stiamo sorteggiando n\n",
      "n troppo grande\n",
      "Il risultato è = -3\n",
      "Codice di errore -3 rilevato\n"
     ]
    }
   ],
   "source": [
    "import random\n",
    "\n",
    "\n",
    "def check_value_and_multiply(n, m):\n",
    "    \"\"\"\n",
    "    Verifica il valore di n in un intervallo\n",
    "    e lo moltiplica per m.\n",
    "    \n",
    "    Se n > 30 allora restituisce un codice di errore in un numero negativo.\n",
    "    \n",
    "    ATTENZIONE: non è bene usare codici di errore nello stesso canale dove\n",
    "    sarebbero arrivati i dati corretti, si useranno in futuro le eccezioni.\n",
    "    Ora ci serve come esempio.\n",
    "    \"\"\"\n",
    "    if n < 10:\n",
    "        print(\"n minore di 10\")\n",
    "    elif n > 30:  # elif per gestire else+if, questo sostiuisce anche lo switch/case\n",
    "        print(\"n troppo grande\")\n",
    "        n = -1\n",
    "    else:\n",
    "        print(\"un buon valore di n = {}\".format(n))\n",
    "        \n",
    "    return n*m\n",
    "    \n",
    "\n",
    "def main():\n",
    "    while True:\n",
    "        print(\"stiamo sorteggiando n\")\n",
    "        n = random.randint(1, 50)\n",
    "        rv = check_value_and_multiply(n, 3)\n",
    "        print(\"Il risultato è = {}\".format(rv))\n",
    "        if rv < 0:\n",
    "            print(\"Codice di errore {} rilevato\".format(rv))\n",
    "            break\n",
    "        \n",
    "    \n",
    "if __name__ == \"__main___\":\n",
    "# ATTENZIONE disabilito l'if perché nel notebook web non funziona ma voi lo dovete mettere\n",
    "   main()"
   ]
  },
  {
   "cell_type": "markdown",
   "metadata": {},
   "source": [
    "## DYI: La funzione di Fibonacci\n",
    "\n",
    "Implementare la funzione di Fibonacci"
   ]
  },
  {
   "cell_type": "code",
   "execution_count": null,
   "metadata": {
    "collapsed": true
   },
   "outputs": [],
   "source": [
    "fib(0) --> 0\n",
    "fib(1) --> 1\n",
    "fib(2) --> 1\n",
    "fib(3) --> 2\n",
    "fib(n) --> fib(n-1) + fib(n-2)"
   ]
  },
  {
   "cell_type": "markdown",
   "metadata": {},
   "source": [
    "## Unittest: codice che testa la funzione per noi"
   ]
  },
  {
   "cell_type": "code",
   "execution_count": 11,
   "metadata": {
    "collapsed": false
   },
   "outputs": [],
   "source": [
    "import unittest\n",
    "\n",
    "from fibo import calc_fibo\n",
    "\n",
    "class TestMyFibo(unittest.TestCase):\n",
    "\n",
    "    def test_base(self):\n",
    "        self.assertEqual(calc_fibo(0), 0)\n",
    "        self.assertEqual(calc_fibo(1), 1)\n",
    "\n",
    "    def test_fibo_small(self):\n",
    "        self.assertEqual(calc_fibo(6), 8)\n",
    "        self.assertEqual(calc_fibo(8), 21)\n",
    "        \n",
    "    def test_fibo_big(self):\n",
    "        self.assertEqual(calc_fibo(20), 6765)\n",
    "        self.assertEqual(calc_fibo(30), 832040)\n",
    "\n",
    "    def test_negative(self):\n",
    "        with self.assertRaises(ValueError):\n",
    "            calc_fibo(-1)\n",
    "    \n",
    "    def test_string(self):\n",
    "        with self.assertRaises(TypeError):\n",
    "            calc_fibo(\"ciao\")\n",
    "            calc_fibo(\"12\")\n",
    "\n",
    "if __name__ == '__main__':\n",
    "    unittest.main()"
   ]
  },
  {
   "cell_type": "markdown",
   "metadata": {},
   "source": [
    "## Py.test: un'altra suite per il testing"
   ]
  },
  {
   "cell_type": "code",
   "execution_count": null,
   "metadata": {
    "collapsed": true
   },
   "outputs": [],
   "source": [
    "import pytest\n",
    "from myprogram import fib\n",
    "\n",
    "def test_fib_ok_small():\n",
    "    assert fib(0) == 0\n",
    "    assert fib(1) == 1\n",
    "    assert fib(2) == 1\n",
    "    assert fib(3) == 2\n",
    "    \n",
    "def test_fib_raise_if_string():\n",
    "    with pytest.raises(TypeError):\n",
    "        fib(\"a\")\n",
    "\n",
    "def test_fib_raises_lt_zero():\n",
    "    with pytest.raises(ValueError):\n",
    "        fib(-1)\n",
    "\n"
   ]
  }
 ],
 "metadata": {
  "anaconda-cloud": {},
  "celltoolbar": "Slideshow",
  "kernelspec": {
   "display_name": "Python [conda root]",
   "language": "python",
   "name": "conda-root-py"
  },
  "language_info": {
   "codemirror_mode": {
    "name": "ipython",
    "version": 2
   },
   "file_extension": ".py",
   "mimetype": "text/x-python",
   "name": "python",
   "nbconvert_exporter": "python",
   "pygments_lexer": "ipython2",
   "version": "2.7.12"
  },
  "nbpresent": {
   "slides": {
    "059c8865-351d-4dbd-88d4-7291ae57a4d4": {
     "id": "059c8865-351d-4dbd-88d4-7291ae57a4d4",
     "prev": "768e64e3-108a-424b-aedc-445d28097c33",
     "regions": {
      "04dae629-e290-45b7-acc7-e89d8c20f6fa": {
       "attrs": {
        "height": 0.8,
        "width": 0.8,
        "x": 0.1,
        "y": 0.1
       },
       "content": {
        "cell": "715603c7-84d9-4892-8ce5-e92130ac1a7b",
        "part": "whole"
       },
       "id": "04dae629-e290-45b7-acc7-e89d8c20f6fa"
      }
     }
    },
    "178dbf46-9da5-48ac-b19e-a3ab7da6d03a": {
     "id": "178dbf46-9da5-48ac-b19e-a3ab7da6d03a",
     "prev": "3ca97eb4-9788-40f4-92ba-6f8bf8943a1f",
     "regions": {
      "d4cc719f-8e4d-4ae6-bfda-82b7ba2c79d6": {
       "attrs": {
        "height": 0.8,
        "width": 0.8,
        "x": 0.1,
        "y": 0.1
       },
       "content": {
        "cell": "71ac4a2e-fcaa-4c2f-b01a-380af31593a7",
        "part": "whole"
       },
       "id": "d4cc719f-8e4d-4ae6-bfda-82b7ba2c79d6"
      }
     }
    },
    "3ca97eb4-9788-40f4-92ba-6f8bf8943a1f": {
     "id": "3ca97eb4-9788-40f4-92ba-6f8bf8943a1f",
     "prev": "a6ae0015-01d3-4550-8533-3f9405d7e6ac",
     "regions": {
      "3c6d5e93-2ffa-47d3-8504-1eb35c729395": {
       "attrs": {
        "height": 0.8,
        "width": 0.8,
        "x": 0.1,
        "y": 0.1
       },
       "content": {
        "cell": "ddc8120d-3727-4c10-8dc8-c5b198c1c930",
        "part": "whole"
       },
       "id": "3c6d5e93-2ffa-47d3-8504-1eb35c729395"
      }
     }
    },
    "679a3bb8-82e4-477e-965d-11439180157f": {
     "id": "679a3bb8-82e4-477e-965d-11439180157f",
     "prev": "178dbf46-9da5-48ac-b19e-a3ab7da6d03a",
     "regions": {
      "40d90da9-34f5-4d8b-9bcf-8fd6ca7a34d6": {
       "attrs": {
        "height": 0.8,
        "width": 0.8,
        "x": 0.1,
        "y": 0.1
       },
       "content": {
        "cell": "f588155f-18cd-4ad3-bf61-12746e85cb71",
        "part": "whole"
       },
       "id": "40d90da9-34f5-4d8b-9bcf-8fd6ca7a34d6"
      }
     }
    },
    "768e64e3-108a-424b-aedc-445d28097c33": {
     "id": "768e64e3-108a-424b-aedc-445d28097c33",
     "prev": null,
     "regions": {
      "3372fa88-3f18-428a-ac4e-ff2299b81f8a": {
       "attrs": {
        "height": 0.8,
        "width": 0.8,
        "x": 0.1,
        "y": 0.1
       },
       "content": {
        "cell": "c75585ed-ee15-42f7-9be6-10f30745b231",
        "part": "whole"
       },
       "id": "3372fa88-3f18-428a-ac4e-ff2299b81f8a"
      }
     }
    },
    "a6ae0015-01d3-4550-8533-3f9405d7e6ac": {
     "id": "a6ae0015-01d3-4550-8533-3f9405d7e6ac",
     "prev": "ea35475e-1c00-4754-ba5f-305462eff799",
     "regions": {
      "c767f591-e23c-499f-a4c7-301482548bce": {
       "attrs": {
        "height": 0.8,
        "width": 0.8,
        "x": 0.1,
        "y": 0.1
       },
       "content": {
        "cell": "3c9a83d8-6684-42ac-a87b-15ad2cf6dc9a",
        "part": "whole"
       },
       "id": "c767f591-e23c-499f-a4c7-301482548bce"
      }
     }
    },
    "ea35475e-1c00-4754-ba5f-305462eff799": {
     "id": "ea35475e-1c00-4754-ba5f-305462eff799",
     "prev": "059c8865-351d-4dbd-88d4-7291ae57a4d4",
     "regions": {
      "55d815fa-4dd7-44f9-9c06-60dd697601c0": {
       "attrs": {
        "height": 0.8,
        "width": 0.8,
        "x": 0.1,
        "y": 0.1
       },
       "content": {
        "cell": "fe932a52-25b7-44ed-af2c-6f7323b958b8",
        "part": "whole"
       },
       "id": "55d815fa-4dd7-44f9-9c06-60dd697601c0"
      }
     }
    },
    "fbfa679d-b15b-47af-a7ce-af5ba34e7aac": {
     "id": "fbfa679d-b15b-47af-a7ce-af5ba34e7aac",
     "prev": "679a3bb8-82e4-477e-965d-11439180157f",
     "regions": {
      "f2174245-34e9-4195-82f8-a0b214760a6d": {
       "attrs": {
        "height": 0.4,
        "width": 0.8,
        "x": 0.1,
        "y": 0.5
       },
       "content": {
        "cell": "5e045cb1-1322-47d2-9852-46bbf1272f70",
        "part": "whole"
       },
       "id": "f2174245-34e9-4195-82f8-a0b214760a6d"
      },
      "ff98bf24-d664-48aa-b248-7c85948b37f0": {
       "attrs": {
        "height": 0.8,
        "width": 0.8,
        "x": 0.1,
        "y": 0.1
       },
       "content": {
        "cell": "d835b654-7e4e-498a-b7f6-289b3ec971d0",
        "part": "whole"
       },
       "id": "ff98bf24-d664-48aa-b248-7c85948b37f0"
      }
     }
    }
   },
   "themes": {}
  }
 },
 "nbformat": 4,
 "nbformat_minor": 0
}
