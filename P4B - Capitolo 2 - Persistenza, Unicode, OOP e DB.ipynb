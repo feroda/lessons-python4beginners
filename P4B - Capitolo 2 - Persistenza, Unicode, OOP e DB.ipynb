{
 "cells": [
  {
   "cell_type": "markdown",
   "metadata": {},
   "source": [
    "## Scrivere su file"
   ]
  },
  {
   "cell_type": "code",
   "execution_count": 2,
   "metadata": {
    "collapsed": false
   },
   "outputs": [
    {
     "ename": "NameError",
     "evalue": "name 'fname' is not defined",
     "output_type": "error",
     "traceback": [
      "\u001b[0;31m\u001b[0m",
      "\u001b[0;31mNameError\u001b[0mTraceback (most recent call last)",
      "\u001b[0;32m<ipython-input-2-632ece8e3c3e>\u001b[0m in \u001b[0;36m<module>\u001b[0;34m()\u001b[0m\n\u001b[0;32m----> 1\u001b[0;31m \u001b[1;32mwith\u001b[0m \u001b[0mopen\u001b[0m\u001b[1;33m(\u001b[0m\u001b[0mfname\u001b[0m\u001b[1;33m,\u001b[0m \u001b[1;34m\"wb\"\u001b[0m\u001b[1;33m)\u001b[0m \u001b[1;32mas\u001b[0m \u001b[0mf\u001b[0m\u001b[1;33m:\u001b[0m\u001b[1;33m\u001b[0m\u001b[0m\n\u001b[0m\u001b[1;32m      2\u001b[0m     \u001b[0mf\u001b[0m\u001b[1;33m.\u001b[0m\u001b[0mwrite\u001b[0m\u001b[1;33m(\u001b[0m\u001b[0mdata\u001b[0m\u001b[1;33m)\u001b[0m\u001b[1;33m\u001b[0m\u001b[0m\n\u001b[1;32m      3\u001b[0m \u001b[1;33m\u001b[0m\u001b[0m\n\u001b[1;32m      4\u001b[0m \u001b[1;32mwith\u001b[0m \u001b[0mopen\u001b[0m\u001b[1;33m(\u001b[0m\u001b[0mfname\u001b[0m\u001b[1;33m,\u001b[0m \u001b[1;34m\"rb\"\u001b[0m\u001b[1;33m)\u001b[0m \u001b[1;32mas\u001b[0m \u001b[0mf\u001b[0m\u001b[1;33m:\u001b[0m\u001b[1;33m\u001b[0m\u001b[0m\n\u001b[1;32m      5\u001b[0m     \u001b[0mrows\u001b[0m \u001b[1;33m=\u001b[0m \u001b[0mf\u001b[0m\u001b[1;33m.\u001b[0m\u001b[0mreadlines\u001b[0m\u001b[1;33m(\u001b[0m\u001b[0mdata\u001b[0m\u001b[1;33m)\u001b[0m\u001b[1;33m\u001b[0m\u001b[0m\n",
      "\u001b[0;31mNameError\u001b[0m: name 'fname' is not defined"
     ]
    }
   ],
   "source": [
    "with open(fname, \"wb\") as f:\n",
    "    f.write(data)\n",
    "    \n",
    "with open(fname, \"rb\") as f:\n",
    "    rows = f.readlines(data)"
   ]
  },
  {
   "cell_type": "markdown",
   "metadata": {},
   "source": [
    "## Unicode in breve\n",
    "\n",
    "### mettete sempre la u prima delle stringhe (u\"\")\n",
    "\n",
    "v. unicode HowTO nelle references sotto"
   ]
  },
  {
   "cell_type": "code",
   "execution_count": 3,
   "metadata": {
    "collapsed": false
   },
   "outputs": [
    {
     "data": {
      "text/plain": [
       "u'Papaa\\xe8'"
      ]
     },
     "execution_count": 3,
     "metadata": {},
     "output_type": "execute_result"
    }
   ],
   "source": [
    "u\"Papa\" + u\"aè\" "
   ]
  },
  {
   "cell_type": "markdown",
   "metadata": {},
   "source": [
    "### Leggere e scrivere files con contenuti Unicode"
   ]
  },
  {
   "cell_type": "code",
   "execution_count": 13,
   "metadata": {
    "collapsed": false
   },
   "outputs": [
    {
     "name": "stdout",
     "output_type": "stream",
     "text": [
      "u'\\u4500'\n",
      "('AAA', u'\\u4500 blah blah blah\\n')\n"
     ]
    }
   ],
   "source": [
    "import codecs\n",
    "\n",
    "with codecs.open('unicode.rst', encoding='utf-8', mode='w+') as f:\n",
    "    f.write(u'\\u4500 blah blah blah\\n')\n",
    "    f.seek(0)\n",
    "    print repr(f.readline()[:1])\n",
    "\n",
    "with codecs.open('unicode.rst', encoding='utf-8') as f:\n",
    "    for line in f:\n",
    "        print (\"AAA\", line)\n",
    "    "
   ]
  },
  {
   "cell_type": "code",
   "execution_count": null,
   "metadata": {
    "collapsed": true
   },
   "outputs": [],
   "source": [
    "The most important tip is:\n",
    "\n",
    "    Software should only work with Unicode strings internally, converting to a particular encoding on output."
   ]
  },
  {
   "cell_type": "markdown",
   "metadata": {},
   "source": [
    "## Class e instance"
   ]
  },
  {
   "cell_type": "code",
   "execution_count": 25,
   "metadata": {
    "collapsed": false
   },
   "outputs": [
    {
     "name": "stdout",
     "output_type": "stream",
     "text": [
      "Bye Lucaaaa\n",
      "Hello Lucaaaa\n"
     ]
    }
   ],
   "source": [
    "class Greeter(object):\n",
    "\n",
    "    def __init__(self, name, s=\"Ferroni\"):\n",
    "        self.name = name\n",
    "        self._surname = s\n",
    "        \n",
    "    def hello(self):\n",
    "        print(\"Hello {0.name}\".format(self))\n",
    "\n",
    "class SayGoodBye(object):\n",
    "    def __init__(self, name, s=\"Ferroni\"):\n",
    "        self.name = name\n",
    "        self._surname = s\n",
    "        \n",
    "    def bye(self):\n",
    "        print(\"Bye {0.name}\".format(self))\n",
    "        \n",
    "    def hello(self):\n",
    "        print(\"Baaaaaaye {0.name}\".format(self))\n",
    "\n",
    "        \n",
    "class HelloBye(SayGoodBye, Greeter):\n",
    "    \n",
    "    def __init__(self, *args, **kwargs):\n",
    "        Greeter.__init__(self, *args, **kwargs)\n",
    "        \n",
    "    def hello(self):\n",
    "        return Greeter.hello(self)\n",
    "\n",
    "hb = HelloBye(\"Lucaaaa\")\n",
    "hb.bye()\n",
    "hb.hello()\n",
    "\n"
   ]
  },
  {
   "cell_type": "code",
   "execution_count": 29,
   "metadata": {
    "collapsed": false
   },
   "outputs": [
    {
     "name": "stdout",
     "output_type": "stream",
     "text": [
      "Bye from Fabriano Luca\n",
      "Hello Luca\n",
      "Hello from Fabriano Luca\n"
     ]
    }
   ],
   "source": [
    "class Greeter(object):\n",
    "\n",
    "    def __init__(self, name, s=\"Ferroni\"):\n",
    "        self.name = name\n",
    "        self._surname = s\n",
    "        \n",
    "    def hello(self):\n",
    "        print(\"Hello {0.name}\".format(self))\n",
    "\n",
    "        \n",
    "class SayGoodByeFabriano(Greeter):\n",
    "    \n",
    "    def __init__(self, name=\"Luca\"):\n",
    "        super(SayGoodByeFabriano, self).__init__(name)\n",
    "        self.city = \"Fabriano\"\n",
    "        \n",
    "    def bye(self):\n",
    "        print(\"Bye from {0.city} {0.name}\".format(self))\n",
    "    \n",
    "    def hello(self):\n",
    "        super(SayGoodByeFabriano, self).hello()\n",
    "        print(\"Hello from {0.city} {0.name}\".format(self))\n",
    "        \n",
    "hb = SayGoodByeFabriano()\n",
    "hb.bye()\n",
    "hb.hello()"
   ]
  },
  {
   "cell_type": "code",
   "execution_count": 53,
   "metadata": {
    "collapsed": false
   },
   "outputs": [],
   "source": [
    "import json\n",
    "import csv\n",
    "\n",
    "people_fname = r\"c:\\Users\\gigi\\lessons-python4beginners\\src\\gestionale\\people_fixture.json\"\n",
    "with open(people_fname, \"rb\") as fpeople:\n",
    "    PEOPLE = json.load(fpeople)\n",
    "outfname = r\"c:\\Users\\gigi\\a.txt\"\n",
    "\n",
    "class DebugExporter(object):\n",
    "    def do_export(self, f, rows):\n",
    "        for row in rows:\n",
    "            print(\"{}\\n\".format(row))\n",
    "            \n",
    "class Exporter(object):\n",
    "    def do_export(self, f, rows):\n",
    "        for row in rows:\n",
    "            f.write(\"{}\\n\".format(row))\n",
    "\n",
    "class JsonExporter(object):\n",
    "    def do_export(self, f, rows):\n",
    "        json.dump(rows, f, indent=2)\n",
    "\n",
    "\n",
    "class CsvExporter(object):\n",
    "    def do_export(self, f, rows):\n",
    "        \n",
    "        fieldnames = rows[0].keys()\n",
    "        writer = csv.DictWriter(\n",
    "            f, fieldnames = fieldnames, delimiter = \";\")\n",
    "        writer.writeheader()\n",
    "        \n",
    "        for row in rows:\n",
    "            writer.writerow(row)\n"
   ]
  },
  {
   "cell_type": "code",
   "execution_count": 56,
   "metadata": {
    "collapsed": true
   },
   "outputs": [],
   "source": [
    "def apply_exportation(xp, fname, data):\n",
    "    with open(fname, \"wb\") as f:\n",
    "        xp.do_export(f, rows=data)"
   ]
  },
  {
   "cell_type": "code",
   "execution_count": 58,
   "metadata": {
    "collapsed": true
   },
   "outputs": [],
   "source": [
    "xp = JsonExporter()\n",
    "apply_exportation(xp, outfname, data=PEOPLE)\n",
    "\n",
    "xpcsv = CsvExporter()\n",
    "csvfname = outfname.replace(\".txt\",\".csv\")\n",
    "apply_exportation(xpcsv, csvfname, data=PEOPLE)\n"
   ]
  },
  {
   "cell_type": "markdown",
   "metadata": {
    "collapsed": true
   },
   "source": [
    "## DB-API"
   ]
  },
  {
   "cell_type": "code",
   "execution_count": null,
   "metadata": {
    "collapsed": true
   },
   "outputs": [],
   "source": [
    "# [PEP 249](https://www.python.org/dev/peps/pep-0249/)\n",
    "# v. gestionale/managers02/db.py"
   ]
  },
  {
   "cell_type": "code",
   "execution_count": null,
   "metadata": {
    "collapsed": true
   },
   "outputs": [],
   "source": [
    "class SqliteDBManager(object):\n",
    "    \n",
    "    def _do_export(self, rows):\n",
    "\n",
    "        cu = self.conn.cursor()\n",
    "\n",
    "        # KO: Never do this -- insecure!\n",
    "        # KO: for row in rows:\n",
    "        # KO:     c.execute(\"INSERT INTO people VALUES ('{name}','{city}','{salary}')\".format(**row))\n",
    "\n",
    "        # Do this instead\n",
    "        for row in rows:\n",
    "            t = (row[\"name\"], row[\"city\"], row[\"salary\"])\n",
    "            cu.execute('INSERT INTO people VALUES (?,?,?)', t)\n",
    "        self.conn.commit()\n"
   ]
  },
  {
   "cell_type": "markdown",
   "metadata": {},
   "source": [
    "## Esercizio DB-API\n",
    "\n",
    "1. Fai in modo che il tuo gestionale:\n",
    "    * inizializzi un tabella PEOPLE su un database sqlite3\n",
    "    * vi esporti i dati di PEOPLE\n",
    "2. BONUS: Importa un file json (o altro) all'avvio del tuo programma in modo da precaricare un set di dati in PEOPLE"
   ]
  },
  {
   "cell_type": "code",
   "execution_count": 32,
   "metadata": {
    "collapsed": true
   },
   "outputs": [],
   "source": [
    "import sqlite3 as db\n",
    "\n",
    "\n",
    "def create_db(dsn):\n",
    "    conn = db.connect(dsn)\n",
    "    cu = conn.cursor()\n",
    "    cu.execute(\"CREATE TABLE PEOPLE (name VARCHAR(32), city VARCHAR(32), salary INTEGER)\")\n",
    "    conn.close()\n",
    "    \n",
    "def save_db(fname, rows):\n",
    "    conn = db.connect(fname)\n",
    "    conn.row_factory = db.Row  # cursore indicizzato anche per chiave\n",
    "        # è possibile definire una propria classe factory\n",
    "        # https://docs.python.org/2.7/library/sqlite3.html?highlight=sqlite3#sqlite3.Connection.row_factory\n",
    "    cu = conn.cursor()\n",
    "    for row in rows:\n",
    "        t = list(row[k] for k in (\"name\", \"city\", \"salary\"))\n",
    "        cu.execute(\"INSERT INTO PEOPLE VALUES (?,?,?)\", t)\n",
    "    conn.commit()\n",
    "    conn.close()\n",
    "    \n",
    "# create_db(\"mydatabase.db\")"
   ]
  },
  {
   "cell_type": "markdown",
   "metadata": {},
   "source": [
    "## References python 2.7\n",
    "\n",
    "* [IL Tutorial](https://docs.python.org/2.7/tutorial/)\n",
    "    * [Coding Style](https://docs.python.org/2.7/tutorial/controlflow.html#intermezzo-coding-style)\n",
    "* [Le funzioni builtins](https://docs.python.org/2.7/library/functions.html) (su ipython >>> ``help(__builtins__))``\n",
    "* [Gli HowTo](https://docs.python.org/2.7/howto/index.html) (tra cui \"Unicode HowTo\" e \"Idioms and Anti-Idioms in Python\")\n",
    "* [The absolute minimum every developer must know about unicode and character sets no excuses!](https://www.joelonsoftware.com/2003/10/08/the-absolute-minimum-every-software-developer-absolutely-positively-must-know-about-unicode-and-character-sets-no-excuses/)\n",
    "* [Pragmatic Unicode](http://nedbatchelder.com/text/unipain.html)\n",
    "* [Tipi, operatori e comparazioni](https://docs.python.org/2.7/library/stdtypes.html)\n",
    "* [String format mini-language](https://docs.python.org/2.7/library/string.html#formatspec)\n",
    "* [DB-API 2.0 (PEP 249)](https://www.python.org/dev/peps/pep-0249/)\n",
    "* [Scope delle variabili (blog)](http://www.saltycrane.com/blog/2008/01/python-variable-scope-notes/)\n",
    "* [Test con PyTest](http://doc.pytest.org/)"
   ]
  },
  {
   "cell_type": "markdown",
   "metadata": {},
   "source": [
    "### Feedback sono graditi\n",
    "\n",
    "* privati via luca@befair.it , cell: 3289639660\n",
    "* via telegram (sempre con il numero di cell)\n",
    "* se volete farli pubblici su www.befair.it\n"
   ]
  },
  {
   "cell_type": "code",
   "execution_count": null,
   "metadata": {
    "collapsed": true
   },
   "outputs": [],
   "source": [
    "phrase = \"happy-python-hacking!\"\n",
    "the_end = u\" \".join([s.capitalize() for s in phrase.split(\"-\")])"
   ]
  }
 ],
 "metadata": {
  "anaconda-cloud": {},
  "kernelspec": {
   "display_name": "Python [conda root]",
   "language": "python",
   "name": "conda-root-py"
  },
  "language_info": {
   "codemirror_mode": {
    "name": "ipython",
    "version": 2
   },
   "file_extension": ".py",
   "mimetype": "text/x-python",
   "name": "python",
   "nbconvert_exporter": "python",
   "pygments_lexer": "ipython2",
   "version": "2.7.12"
  }
 },
 "nbformat": 4,
 "nbformat_minor": 0
}
