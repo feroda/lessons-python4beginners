{
 "cells": [
  {
   "cell_type": "markdown",
   "metadata": {
    "nbpresent": {
     "id": "c75585ed-ee15-42f7-9be6-10f30745b231"
    },
    "slideshow": {
     "slide_type": "slide"
    }
   },
   "source": [
    "# CAPITOLO 1.1: liste, dizionari e modello dati\n"
   ]
  },
  {
   "cell_type": "markdown",
   "metadata": {},
   "source": [
    "### LISTE: Operazioni e metodi"
   ]
  },
  {
   "cell_type": "code",
   "execution_count": 43,
   "metadata": {
    "collapsed": false
   },
   "outputs": [
    {
     "name": "stdout",
     "output_type": "stream",
     "text": [
      "la lista è [1, 2, 3, 10, 'a', -12.333, 1024, 768, 'pippo', 'la', 'concatenazione', 'della', 'lista', 32, 3]\n",
      "la lista è [1, 2, 10, 'a', -12.333, 1024, 768, 'pippo', 'la', 'concatenazione', 'della', 'lista', 32, 3]\n",
      "l'indice di 10 è 2\n",
      "il valore all'indice 3 è a\n",
      "** vediamo come funziona lo SLICING delle liste\n",
      "Ecco i primi 3 valori della lista [1, 2, 10]\n",
      "e poi i valori dal 3o al penultimo ['a', -12.333, 1024, 768, 'pippo', 'la', 'concatenazione', 'della', 'lista', 32]\n",
      "e poi i valori dal 3o al penultimo, ma ogni 2 ['a', 1024, 'pippo', 'concatenazione', 'lista']\n",
      "\n",
      "***FUNZIONI RANGE e XRANGE***\n",
      "\n",
      "ecco la lista ogni 50 elementi di n <=1000: [0, 50, 100, 150, 200, 250, 300, 350, 400, 450, 500, 550, 600, 650, 700, 750, 800, 850, 900, 950]\n",
      "ECCEZIONE <type 'exceptions.TypeError'>: sequence index must be integer, not 'slice'\n",
      "ecco la lista ogni 50 elementi di n <= 1000: [0, 50, 100, 150, 200, 250, 300, 350, 400, 450, 500, 550, 600, 650, 700, 750, 800, 850, 900, 950]\n",
      "\n",
      "[OK] lista ogni 50 elementi <= 1000: [0, 50, 100, 150, 200, 250, 300, 350, 400, 450, 500, 550, 600, 650, 700, 750, 800, 850, 900, 950]\n"
     ]
    }
   ],
   "source": [
    "# creazione\n",
    "l = [1,2,3,10,\"a\", -12.333, 1024, 768, \"pippo\"]\n",
    "\n",
    "# concatenazione\n",
    "l += [\"la\", \"concatenazione\", \"della\", \"lista\"]\n",
    "\n",
    "# aggiunta elementi in fondo\n",
    "l.append(32)\n",
    "l.append(3)\n",
    "print(u\"la lista è {}\".format(l))\n",
    "l.remove(3)  # rimuove la prima occorrenza\n",
    "print(u\"la lista è {}\".format(l))\n",
    "i = l.index(10)  # restituisce l'indice della prima occorrenza del valore 10\n",
    "print(u\"l'indice di 10 è {}\".format(i))\n",
    "print(u\"il valore all'indice 3 è {}\".format(l[3]))\n",
    "print(u\"** vediamo come funziona lo SLICING delle liste\")\n",
    "print(u\"Ecco i primi 3 valori della lista {}\".format(l[:3]))\n",
    "print(u\"e poi i valori dal 3o al penultimo {}\".format(l[3:-1]))\n",
    "print(u\"e poi i valori dal 3o al penultimo, ma ogni 2 {}\".format(l[3:-1:2]))\n",
    "\n",
    "print(\"\\n***FUNZIONI RANGE e XRANGE***\\n\")\n",
    "l2 = range(1000)  # questi sono i primi 1000 valori da 0 a 999\n",
    "print(u\"ecco la lista ogni 50 elementi di n <=1000: {}\".format(l2[::50]))\n",
    "\n",
    "# LA FUNZIONE xrange è comoda per ottenere un oggetto tipo (ma non = a ) un generatore \n",
    "# da cui i numeri vengono appunto generati al momento dell'accesso all'elemento stesso\n",
    "# della sequenza\n",
    "\n",
    "# Il codice di prima dà errore\n",
    "try:\n",
    "    l2 = xrange(1000)  # questi sono i primi 1000 valori da 0 a 999 ma senza occupare RAM\n",
    "    print(u\"ecco la lista ogni 50 elementi di n <= 1000: {}\".format(l2[::50]))\n",
    "except Exception as e:\n",
    "    print(\"ECCEZIONE {}: {}\".format(type(e), e))\n",
    "\n",
    "# Il codice che funziona con lo slice valuta xrange in una lista quindi\n",
    "# risulta inutile\n",
    "l2 = list(xrange(1000))  # questi sono i primi 1000 valori da 0 a 999 ma senza occupare RAM\n",
    "print(u\"ecco la lista ogni 50 elementi di n <= 1000: {}\\n\".format(l2[::50]))\n",
    "\n",
    "## ma si può fare direttamente con range o xrange!\n",
    "print(u\"[OK] lista ogni 50 elementi <= 1000: {}\".format(range(0,1000,50)))"
   ]
  },
  {
   "cell_type": "markdown",
   "metadata": {},
   "source": [
    "### Iterazione nelle liste e cicli for su indice"
   ]
  },
  {
   "cell_type": "code",
   "execution_count": 44,
   "metadata": {
    "collapsed": false
   },
   "outputs": [
    {
     "name": "stdout",
     "output_type": "stream",
     "text": [
      "***PER FARE UN CICLO FOR CON INDICE INCREMENTALE SI USA XRANGE!\n",
      "numero 1\n",
      "numero 2\n",
      "numero 3\n",
      "numero 4\n",
      "numero 5\n",
      "numero 6\n",
      "numero 7\n",
      "numero 8\n",
      "numero 9\n",
      "numero 10\n",
      "numero 11\n",
      "numero 12\n",
      "numero 13\n",
      "numero 14\n",
      "numero 15\n",
      "numero 16\n",
      "numero 17\n",
      "numero 18\n",
      "numero 19\n",
      "numero 20\n",
      "***PER NUMERARE GLI ELEMENTI DI UNA LISTA SI USA ENUMERATE!\n",
      "Il contenuto 1 si trova all'indice 10\n",
      "Il contenuto 2 si trova all'indice 11\n",
      "Il contenuto 10 si trova all'indice 12\n",
      "Il contenuto a si trova all'indice 13\n",
      "Il contenuto -12.333 si trova all'indice 14\n",
      "Il contenuto 1024 si trova all'indice 15\n",
      "Il contenuto 768 si trova all'indice 16\n",
      "Il contenuto pippo si trova all'indice 17\n",
      "Il contenuto la si trova all'indice 18\n",
      "Il contenuto concatenazione si trova all'indice 19\n",
      "Il contenuto della si trova all'indice 20\n",
      "Il contenuto lista si trova all'indice 21\n",
      "Il contenuto 32 si trova all'indice 22\n",
      "Il contenuto 3 si trova all'indice 23\n"
     ]
    }
   ],
   "source": [
    "\n",
    "print(\"***PER FARE UN CICLO FOR CON INDICE INCREMENTALE SI USA XRANGE!\")\n",
    "\n",
    "for el in xrange(1,21):\n",
    "    print(\"numero {}\".format(el))\n",
    "    \n",
    "print(\"***PER NUMERARE GLI ELEMENTI DI UNA LISTA SI USA ENUMERATE!\")\n",
    "\n",
    "for i, el in enumerate(l, start=10):  # numero partendo da 10, se start non specificato parto da 0\n",
    "    print(\"Il contenuto {} si trova all'indice {}\".format(el, i))\n",
    "\n"
   ]
  },
  {
   "cell_type": "markdown",
   "metadata": {},
   "source": [
    "### DIZIONARI: Operazioni e metodi"
   ]
  },
  {
   "cell_type": "code",
   "execution_count": 8,
   "metadata": {
    "collapsed": false
   },
   "outputs": [
    {
     "name": "stdout",
     "output_type": "stream",
     "text": [
      "{'cognome': 'Ferroni', 2: 'figli', 'classe': 1979, (2017, 1, 23): 'corso python', 'nome': 'Luca'}\n",
      "Il nome del personaggio è Luca\n",
      "Il personaggio è Luca Ferroni nato nel 1979\n",
      "'nome' è una chiave che esiste con valore = Luca, 'codiceiban' invece non esiste = None\n",
      "Se avessi usato la __getitem__ avrei avuto un KeyError\n",
      "Rimuovo il nome dal dizionario con d.pop('nome')\n",
      "'nome' ora non esiste con valore = None, come 'codiceiban' = None\n",
      "Allora, se non trovi la chiave 'nome' allora dimmi 'Pippo'. Cosa dici?\n",
      "Pippo\n"
     ]
    }
   ],
   "source": [
    "# -*- coding: utf-8 -*-\n",
    "\n",
    "# definizione\n",
    "d = {\"nome\": \"Luca\", \n",
    "     \"cognome\": \"Ferroni\", \n",
    "     \"classe\": 1980, \n",
    "     2: \"figli\", \n",
    "     (2017, 1, 23): \"corso python\",\n",
    "    \"classe\": 1979}\n",
    "\n",
    "print(d)\n",
    "# aggiornamento\n",
    "d.update({\n",
    "    \"professioni\" : [\"docente\", \"lavoratore autonomo\"]\n",
    "})\n",
    "\n",
    "d[\"pranzo\"] = \"ritrovo degli artisti\"\n",
    "\n",
    "# recupero valore per chiave certa (__getitem__)\n",
    "print(u\"Il nome del personaggio è {}\".format(d[\"nome\"]))\n",
    "\n",
    "# sfrutto il mini-formato di template per le stringhe\n",
    "# https://docs.python.org/2.7/library/string.html#formatspec\n",
    "print(u\"Il personaggio è {nome} {cognome} nato nel {classe}\".format(**d))\n",
    "\n",
    "# Recupero di un valore per una chiave opzionale\n",
    "print(u\"'nome' è una chiave che esiste con valore = {}, 'codiceiban' invece non esiste = {}\".format(\n",
    "    d.get('nome'), d.get('codiceiban')))\n",
    "\n",
    "print(u\"Se avessi usato la __getitem__ avrei avuto un KeyError\")\n",
    "\n",
    "# rimozione di una chiave dal dizionario\n",
    "print(u\"Rimuovo il nome dal dizionario con d.pop('nome')\")\n",
    "d.pop('nome')\n",
    "\n",
    "print(u\"'nome' ora non esiste con valore = {}, come 'codiceiban' = {}\".format(\n",
    "    d.get('nome'), d.get('codiceiban')))\n",
    "\n",
    "print(u\"Allora, se non trovi la chiave 'nome' allora dimmi 'Pippo'. Cosa dici?\")\n",
    "print(d.get('nome', 'Pippo'))"
   ]
  },
  {
   "cell_type": "markdown",
   "metadata": {},
   "source": [
    "### Iterazione nei dizionari\n",
    "\n",
    "**ATTENZIONE**: Il contenuto del dizionario non è ordinato! Non c'è alcuna garanzia sull'ordinamento. Per avere garanzia bisogna usare la classe `collections.OrderedDict`"
   ]
  },
  {
   "cell_type": "code",
   "execution_count": 52,
   "metadata": {
    "collapsed": false
   },
   "outputs": [
    {
     "name": "stdout",
     "output_type": "stream",
     "text": [
      "\n",
      "***PER ITERARE SU TUTTI GLI ELEMENTI DI UN DIZIONARIO SI USA .iteritems()***\n",
      "\n",
      "Alla chiave professioni corrisponde il valore ['docente', 'lavoratore autonomo']\n",
      "Alla chiave cognome corrisponde il valore Ferroni\n",
      "Alla chiave classe corrisponde il valore 1980\n",
      "\n",
      "***DIZIONARI E ORDINAMENTO***\n",
      "\n",
      "input = [('a', 1), ('b', 2), ('l', 10), ('c', 3)]\n",
      "dizionario non ordinato = {'a': 1, 'c': 3, 'b': 2, 'l': 10}\n",
      "dizionario ordinato = OrderedDict([('a', 1), ('b', 2), ('l', 10), ('c', 3)])\n",
      "lista di coppie da diz NON ordinato = [('a', 1), ('c', 3), ('b', 2), ('l', 10)]\n",
      "lista di coppie da diz ordinato = [('a', 1), ('b', 2), ('l', 10), ('c', 3)]\n"
     ]
    }
   ],
   "source": [
    "print(\"\\n***PER ITERARE SU TUTTI GLI ELEMENTI DI UN DIZIONARIO SI USA .iteritems()***\\n\")\n",
    "\n",
    "for key, value in d.iteritems():\n",
    "    print(\"Alla chiave {} corrisponde il valore {}\".format(key,value))\n",
    "\n",
    "    \n",
    "print(\"\\n***DIZIONARI E ORDINAMENTO***\\n\")\n",
    "data_input = [('a', 1), ('b', 2), ('l', 10), ('c', 3)]\n",
    "d1 = dict(data_input)\n",
    "    \n",
    "import collections\n",
    "\n",
    "d2_ord = collections.OrderedDict(data_input)\n",
    "\n",
    "print(\"input = {}\".format(data_input))\n",
    "print(\"dizionario non ordinato = {}\".format(d1))\n",
    "print(\"dizionario ordinato = {}\".format(d2_ord))\n",
    "print(\"lista di coppie da diz NON ordinato = {}\".format(d1.items()))\n",
    "print(\"lista di coppie da diz ordinato = {}\".format(d2_ord.items()))"
   ]
  },
  {
   "cell_type": "markdown",
   "metadata": {},
   "source": [
    "## DYI: Fibonacci optimized\n",
    "\n",
    "Salvare i calcoli intermedi della funzione di Fibonacci in un dizionario da usare come cache.\n",
    "\n",
    "Eseguire i test per essere sicuri di non aver rotto l'algoritmo"
   ]
  },
  {
   "cell_type": "markdown",
   "metadata": {
    "slideshow": {
     "slide_type": "slide"
    }
   },
   "source": [
    "# Caratteristiche del modello dati di Python"
   ]
  },
  {
   "cell_type": "markdown",
   "metadata": {
    "slideshow": {
     "slide_type": "subslide"
    }
   },
   "source": [
    "## Tipi di dato \"mutable\" e \"immutable\"\n",
    "\n",
    "[Python Data Model](https://docs.python.org/2/reference/datamodel.html#objects-values-and-types)\n",
    "\n",
    "Ogni oggetto ha:\n",
    "   * identità -> non cambia mai e si può pensare come l'indirizzo in memoria\n",
    "   * tipo -> non cambia mai e rappresenta le operazioni che l'oggetto supporta\n",
    "   * valore -> può cambiare se il tipo è mutable, non se è immutable\n",
    "   \n",
    "Tipi di dato **immutable** sono:\n",
    "\n",
    "   * interi\n",
    "   * stringhe\n",
    "   * tuple\n",
    "   * set\n",
    "\n",
    "Tipi di dato **mutable** sono:\n",
    "\n",
    "   * liste\n",
    "   * dizionari"
   ]
  },
  {
   "cell_type": "markdown",
   "metadata": {
    "slideshow": {
     "slide_type": "subslide"
    }
   },
   "source": [
    "## Tipizzazione forte e dinamica\n",
    "\n",
    "Da http://stackoverflow.com/questions/11328920/is-python-strongly-typed/11328980#11328980 (v. anche i commenti)\n",
    "\n",
    "Python is strongly, dynamically typed.\n",
    "\n",
    "   * **Strong typing** means that the type of a value doesn't suddenly change. A string containing only digits doesn't magically become a number, as may happen in Perl. Every change of type requires an explicit conversion.\n",
    "   * **Dynamic typing** means that runtime objects (values) have a type, as opposed to static typing where variables have a type.\n",
    "\n",
    "As for example\n",
    "\n",
    "```\n",
    "bob = 1\n",
    "bob = \"bob\"\n",
    "```\n",
    "\n",
    "This works because the variable does not have a type; it can name any object. After bob=1, you'll find that type(bob) returns int, but after bob=\"bob\", it returns str. (Note that type is a regular function, so it evaluates its argument, then returns the type of the value.)\n"
   ]
  },
  {
   "cell_type": "markdown",
   "metadata": {},
   "source": [
    "## Passaggio di parametro per valore o riferimento?\n",
    "\n",
    "Nessuno dei due! V. https://jeffknupp.com/blog/2012/11/13/is-python-callbyvalue-or-callbyreference-neither/\n",
    "\n",
    "Call by object, or call by object reference. \n",
    "\n",
    "Concetto base: in python una variabile è solo un nome per un oggetto (= la tripla id,tipo,valore)\n",
    "\n",
    "In sostanza il comportamento dipende dal fatto che gli oggetti nominati dalle variabili sono mutable o immutable.\n",
    "\n",
    "Seguono esempi:"
   ]
  },
  {
   "cell_type": "code",
   "execution_count": 17,
   "metadata": {
    "collapsed": false
   },
   "outputs": [
    {
     "name": "stdout",
     "output_type": "stream",
     "text": [
      "[41]\n",
      "[41]\n"
     ]
    }
   ],
   "source": [
    "def foo(bar):\n",
    "    bar.append(41)\n",
    "    print(bar)\n",
    "    \n",
    "    \n",
    "    # >> [41]\n",
    "\n",
    "answer_list = []\n",
    "foo(answer_list)\n",
    "print(answer_list)\n",
    "# >> [41]"
   ]
  },
  {
   "cell_type": "code",
   "execution_count": 9,
   "metadata": {
    "collapsed": false
   },
   "outputs": [
    {
     "name": "stdout",
     "output_type": "stream",
     "text": [
      "new value\n",
      "old value\n"
     ]
    }
   ],
   "source": [
    "\n",
    "def foo(bar):\n",
    "    bar = 'new value'\n",
    "    print (bar)\n",
    "    # >> 'new value'\n",
    "\n",
    "answer_list = 'old value'\n",
    "foo(answer_list)\n",
    "print(answer_list)\n",
    "# >> 'old value'"
   ]
  },
  {
   "cell_type": "markdown",
   "metadata": {},
   "source": [
    "## WARNING / DANGER / EXPLOSION / ATTENZIONE!\n",
    "\n",
    "Cosa succede se inizializzo liste e dizionari nei parametri nominali di una funzione?"
   ]
  },
  {
   "cell_type": "code",
   "execution_count": 23,
   "metadata": {
    "collapsed": false
   },
   "outputs": [
    {
     "name": "stdout",
     "output_type": "stream",
     "text": [
      "la lista è (1,)\n",
      "la lista è (4,)\n",
      "la lista è (2,)\n",
      "----\n",
      "la lista è [1, 2]\n",
      "la lista è (5,)\n"
     ]
    }
   ],
   "source": [
    "def ciao(n, l=[], d={}):\n",
    "    if n > 5:\n",
    "        return\n",
    "    l.append(n)\n",
    "    d[n] = n\n",
    "    print(\"la lista è {}\".format(l))\n",
    "    # print(\"il diz è {}\".format(d))\n",
    "    \n",
    "ciao(1)  # [1]\n",
    "ciao(4)  # [1, 4]\n",
    "ciao(2)\n",
    "print(\"----\")\n",
    "\n",
    "ciao(2, l=[1])\n",
    "ciao(5)"
   ]
  },
  {
   "cell_type": "markdown",
   "metadata": {},
   "source": [
    "## Funzioni con parametri posizionali, nominali, e arbitrari \n",
    "\n",
    "Una funzione si definisce con `def <nomefunzione>([parametri])` dove i parametri possono essere:\n",
    "\n",
    "  * posizionali. Ad es: `def hello(who)`\n",
    "  * nominali. Ad es: `def hello(who='')` o who=None o who='default'\n",
    "  * entrambi, ma i nominali devono essere messi dopo i posizionali. Ad es: `def hello(who, say=\"How are you?\")`\n",
    "  * arbitrari sia posizionali con il simbolo `*` o nominali con `**`. Come convenzione si utilizzano i nomi `args` e ``kw`` o ``kwargs``. Ad es: `def hello(who, say=\"How are you?\", *args, **kw)`\n",
    "  \n",
    "  I simboli `*` e `**` indicano rispettivamente la rappresentazione di una lista come una sequenza di elementi, e di un dizionario come una sequenza di parametri `<chiave>=<valore>`\n",
    "\n",
    "\n",
    "## Scope delle variabili\n",
    "\n",
    "http://www.saltycrane.com/blog/2008/01/python-variable-scope-notes/\n",
    "\n",
    "e ricordatevi che:\n",
    "\n",
    "```\n",
    "for i in [1,2,3]:\n",
    "      print(i)\n",
    "print(\"Sono fuori dal ciclo e posso vedere che i={}\".format(i))\n",
    "```\n",
    "  \n",
    "\n",
    "## Namespace\n",
    "\n",
    "I namespace in python sono raccoglitori di nomi e posson essere impliciti o espliciti. Sono impliciti lo spazio dei nomi `__builtin__` e `__main__`. Sono espliciti, le classi, gli oggetti, le funzioni e in particolare i moduli.\n",
    "\n",
    "Posso importare un modulo che mi va a costituire un namespace con `import <nomemodulo>` e accedere a tutti i simboli top-level inseriti nel modulo come `<nomemodulo>.<simbolo>`.\n",
    "\n",
    "L'importazione di simboli singoli all'interno di un modulo in un altro namespace si può fare con `from <nomemodulo> import <simbolo>`. Quello che **non si dovrebbe fare** è importare tutti i simboli di un modulo dentro un altro nella forma: `from <nomemodulo> import *`. Non fatelo, a meno che non strettamente necessario."
   ]
  },
  {
   "cell_type": "markdown",
   "metadata": {},
   "source": [
    "## Stack delle eccezioni e loro gestione\n",
    "\n",
    "Lo stack delle eccezioni builtin, ossia già comprese nel linguaggio python sono al link: https://docs.python.org/2/library/exceptions.html#exception-hierarchy\n",
    "\n",
    "Derivando da essere facilmente se ne possono definire di proprie.\n",
    "\n",
    "La gestione delle eccezioni avviene in blocchi:\n",
    "\n",
    "```\n",
    "try:\n",
    "    ...\n",
    "except [eccezione] [as variabile]:\n",
    "    ...\n",
    "else:\n",
    "    ...\n",
    "finally:\n",
    "    ...\n",
    "```\n",
    "\n",
    "Pratica del Duck Typing! \n",
    "\n",
    "« If it looks like a duck, swims like a duck, and quacks like a duck, then it probably is a duck. »\n",
    "\n",
    "Segue esempio di composizione del saluto con la gestione delle eccezioni:"
   ]
  },
  {
   "cell_type": "code",
   "execution_count": 2,
   "metadata": {
    "collapsed": false
   },
   "outputs": [
    {
     "name": "stdout",
     "output_type": "stream",
     "text": [
      "nessuna eccezione\n",
      "Bye\n",
      "Hello mamma!\n"
     ]
    }
   ],
   "source": [
    "# -*- coding: utf-8 -*-\n",
    "\n",
    "# This is hello_who_3.py\n",
    "import sys                            # <-- importo un modulo\n",
    "\n",
    "\n",
    "def compose_hello(who, force=False):   # <-- valore di default\n",
    "    \"\"\"\n",
    "    Get the hello message.\n",
    "    \"\"\" \n",
    "    try:                                     # <-- gestione eccezioni `Duck Typing`\n",
    "        message = \"Hello \" + who + \"!\"\n",
    "    except TypeError:                       # <-- eccezione specifica\n",
    "    # except TypeError as e:                       # <-- eccezione specifica su parametro e\n",
    "        print(\"[WARNING] Il parametro `who` dovrebbe essere una stringa\")\n",
    "        if force:                            # <-- controllo \"if\"\n",
    "            message = \"Hello {}!\".format(who)\n",
    "        else:\n",
    "            raise                            # <-- solleva eccezione originale\n",
    "    except Exception:\n",
    "        print(\"Verificatasi eccezione non prevista\")\n",
    "    else:\n",
    "        print(\"nessuna eccezione\")\n",
    "    finally:\n",
    "        print(\"Bye\")\n",
    "    \n",
    "    return message\n",
    "\n",
    "\n",
    "def hello(who='world'):               # <-- valore di default\n",
    "    print(compose_hello(who))\n",
    "\n",
    "\n",
    "if __name__ == \"__main__\":\n",
    "    hello(\"mamma\")\n"
   ]
  },
  {
   "cell_type": "code",
   "execution_count": 3,
   "metadata": {
    "collapsed": false
   },
   "outputs": [
    {
     "name": "stdout",
     "output_type": "stream",
     "text": [
      "nessuna eccezione\n",
      "Bye\n",
      "Hello pippo!\n"
     ]
    }
   ],
   "source": [
    "hello(\"pippo\")"
   ]
  },
  {
   "cell_type": "code",
   "execution_count": 4,
   "metadata": {
    "collapsed": false
   },
   "outputs": [
    {
     "name": "stdout",
     "output_type": "stream",
     "text": [
      "[WARNING] Il parametro `who` dovrebbe essere una stringa\n",
      "Bye\n"
     ]
    },
    {
     "ename": "TypeError",
     "evalue": "cannot concatenate 'str' and 'int' objects",
     "output_type": "error",
     "traceback": [
      "\u001b[0;31m\u001b[0m",
      "\u001b[0;31mTypeError\u001b[0mTraceback (most recent call last)",
      "\u001b[0;32m<ipython-input-4-e35132e5d1c7>\u001b[0m in \u001b[0;36m<module>\u001b[0;34m()\u001b[0m\n\u001b[0;32m----> 1\u001b[0;31m \u001b[0mhello\u001b[0m\u001b[1;33m(\u001b[0m\u001b[1;36m1\u001b[0m\u001b[1;33m)\u001b[0m\u001b[1;33m\u001b[0m\u001b[0m\n\u001b[0m",
      "\u001b[0;32m<ipython-input-2-15533d549f12>\u001b[0m in \u001b[0;36mhello\u001b[0;34m(who)\u001b[0m\n\u001b[1;32m     29\u001b[0m \u001b[1;33m\u001b[0m\u001b[0m\n\u001b[1;32m     30\u001b[0m \u001b[1;32mdef\u001b[0m \u001b[0mhello\u001b[0m\u001b[1;33m(\u001b[0m\u001b[0mwho\u001b[0m\u001b[1;33m=\u001b[0m\u001b[1;34m'world'\u001b[0m\u001b[1;33m)\u001b[0m\u001b[1;33m:\u001b[0m               \u001b[1;31m# <-- valore di default\u001b[0m\u001b[1;33m\u001b[0m\u001b[0m\n\u001b[0;32m---> 31\u001b[0;31m     \u001b[1;32mprint\u001b[0m\u001b[1;33m(\u001b[0m\u001b[0mcompose_hello\u001b[0m\u001b[1;33m(\u001b[0m\u001b[0mwho\u001b[0m\u001b[1;33m)\u001b[0m\u001b[1;33m)\u001b[0m\u001b[1;33m\u001b[0m\u001b[0m\n\u001b[0m\u001b[1;32m     32\u001b[0m \u001b[1;33m\u001b[0m\u001b[0m\n\u001b[1;32m     33\u001b[0m \u001b[1;33m\u001b[0m\u001b[0m\n",
      "\u001b[0;32m<ipython-input-2-15533d549f12>\u001b[0m in \u001b[0;36mcompose_hello\u001b[0;34m(who, force)\u001b[0m\n\u001b[1;32m     10\u001b[0m     \"\"\" \n\u001b[1;32m     11\u001b[0m     \u001b[1;32mtry\u001b[0m\u001b[1;33m:\u001b[0m                                     \u001b[1;31m# <-- gestione eccezioni `Duck Typing`\u001b[0m\u001b[1;33m\u001b[0m\u001b[0m\n\u001b[0;32m---> 12\u001b[0;31m         \u001b[0mmessage\u001b[0m \u001b[1;33m=\u001b[0m \u001b[1;34m\"Hello \"\u001b[0m \u001b[1;33m+\u001b[0m \u001b[0mwho\u001b[0m \u001b[1;33m+\u001b[0m \u001b[1;34m\"!\"\u001b[0m\u001b[1;33m\u001b[0m\u001b[0m\n\u001b[0m\u001b[1;32m     13\u001b[0m     \u001b[1;32mexcept\u001b[0m \u001b[0mTypeError\u001b[0m\u001b[1;33m:\u001b[0m                       \u001b[1;31m# <-- eccezione specifica\u001b[0m\u001b[1;33m\u001b[0m\u001b[0m\n\u001b[1;32m     14\u001b[0m     \u001b[1;31m# except TypeError as e:                       # <-- eccezione specifica su parametro e\u001b[0m\u001b[1;33m\u001b[0m\u001b[1;33m\u001b[0m\u001b[0m\n",
      "\u001b[0;31mTypeError\u001b[0m: cannot concatenate 'str' and 'int' objects"
     ]
    }
   ],
   "source": [
    "hello(1)"
   ]
  },
  {
   "cell_type": "code",
   "execution_count": 25,
   "metadata": {
    "collapsed": false
   },
   "outputs": [
    {
     "name": "stdout",
     "output_type": "stream",
     "text": [
      "[WARNING] Il parametro `who` dovrebbe essere una stringa\n",
      "Bye\n",
      "Ha composto Hello 1!\n"
     ]
    }
   ],
   "source": [
    "ret = compose_hello(1, force=True)\n",
    "print(\"Ha composto {}\".format(ret))"
   ]
  },
  {
   "cell_type": "code",
   "execution_count": 29,
   "metadata": {
    "collapsed": false
   },
   "outputs": [
    {
     "name": "stdout",
     "output_type": "stream",
     "text": [
      "[WARNING] Il parametro `who` dovrebbe essere una stringa\n",
      "Bye\n",
      "TypeError: cannot concatenate 'str' and 'int' objects\n",
      "Riprova\n"
     ]
    }
   ],
   "source": [
    "try:\n",
    "    hello(1)\n",
    "except TypeError as e:\n",
    "    print(\"{}: {}\".format(type(e).__name__, e))\n",
    "    print(\"Riprova\")"
   ]
  },
  {
   "cell_type": "markdown",
   "metadata": {},
   "source": [
    "# DYI: Anagrafica e Fibonacci\n",
    "\n",
    "Sapendo che l'input all'utente si chiede con la funzione `raw_input(<richiesta>)`, scrivere una funzione che richieda nome, città, stipendio, e generazione di Fibonacci dei propri conigli."
   ]
  },
  {
   "cell_type": "code",
   "execution_count": 3,
   "metadata": {
    "collapsed": true
   },
   "outputs": [],
   "source": [
    "def main():\n",
    "    # Step 1. Finché l'utente non scrive STOP - si fa tutto in un while True con un break quando occorre\n",
    "    # Step 2. L'utente inserisce il nome\n",
    "    #         Usa raw_input(\"Inserisci ...\") per chiedere le info all'utente\n",
    "    # Step 3. L'utente inserisce la città\n",
    "    # Step 4. L'utente inserisce lo stipendio\n",
    "    # Step 5. Inserisci il dizionario con chiavi \n",
    "    #   'name', 'city', 'salary', 'genfibo'\n",
    "    #   nella lista PEOPLE = []\n",
    "    PEOPLE.append(person_d)\n",
    "    # Step 6. Stampa a video PEOPLE nel modo che ti piace\n",
    "    # Step 7. Riinizia da Step 1\n",
    "    # FINE\n",
    "    \n",
    "    # ---- BONUS ----\n",
    "    # Step 8. Quando l'utente smette -> scrivi i dati in un file\n",
    "    #   se vuoi Step 8.1 in formato json\n",
    "    #   se vuoi Step 8.2 in formato csv\n",
    "    #   se vuoi Step 8.3 in formato xml\n",
    "    # Step 9. Fallo anche se l'utente preme CTRL+C o CTRL+Z"
   ]
  }
 ],
 "metadata": {
  "anaconda-cloud": {},
  "celltoolbar": "Slideshow",
  "kernelspec": {
   "display_name": "Python [conda root]",
   "language": "python",
   "name": "conda-root-py"
  },
  "language_info": {
   "codemirror_mode": {
    "name": "ipython",
    "version": 2
   },
   "file_extension": ".py",
   "mimetype": "text/x-python",
   "name": "python",
   "nbconvert_exporter": "python",
   "pygments_lexer": "ipython2",
   "version": "2.7.12"
  },
  "nbpresent": {
   "slides": {
    "059c8865-351d-4dbd-88d4-7291ae57a4d4": {
     "id": "059c8865-351d-4dbd-88d4-7291ae57a4d4",
     "prev": "768e64e3-108a-424b-aedc-445d28097c33",
     "regions": {
      "04dae629-e290-45b7-acc7-e89d8c20f6fa": {
       "attrs": {
        "height": 0.8,
        "width": 0.8,
        "x": 0.1,
        "y": 0.1
       },
       "content": {
        "cell": "715603c7-84d9-4892-8ce5-e92130ac1a7b",
        "part": "whole"
       },
       "id": "04dae629-e290-45b7-acc7-e89d8c20f6fa"
      }
     }
    },
    "178dbf46-9da5-48ac-b19e-a3ab7da6d03a": {
     "id": "178dbf46-9da5-48ac-b19e-a3ab7da6d03a",
     "prev": "3ca97eb4-9788-40f4-92ba-6f8bf8943a1f",
     "regions": {
      "d4cc719f-8e4d-4ae6-bfda-82b7ba2c79d6": {
       "attrs": {
        "height": 0.8,
        "width": 0.8,
        "x": 0.1,
        "y": 0.1
       },
       "content": {
        "cell": "71ac4a2e-fcaa-4c2f-b01a-380af31593a7",
        "part": "whole"
       },
       "id": "d4cc719f-8e4d-4ae6-bfda-82b7ba2c79d6"
      }
     }
    },
    "3ca97eb4-9788-40f4-92ba-6f8bf8943a1f": {
     "id": "3ca97eb4-9788-40f4-92ba-6f8bf8943a1f",
     "prev": "a6ae0015-01d3-4550-8533-3f9405d7e6ac",
     "regions": {
      "3c6d5e93-2ffa-47d3-8504-1eb35c729395": {
       "attrs": {
        "height": 0.8,
        "width": 0.8,
        "x": 0.1,
        "y": 0.1
       },
       "content": {
        "cell": "ddc8120d-3727-4c10-8dc8-c5b198c1c930",
        "part": "whole"
       },
       "id": "3c6d5e93-2ffa-47d3-8504-1eb35c729395"
      }
     }
    },
    "679a3bb8-82e4-477e-965d-11439180157f": {
     "id": "679a3bb8-82e4-477e-965d-11439180157f",
     "prev": "178dbf46-9da5-48ac-b19e-a3ab7da6d03a",
     "regions": {
      "40d90da9-34f5-4d8b-9bcf-8fd6ca7a34d6": {
       "attrs": {
        "height": 0.8,
        "width": 0.8,
        "x": 0.1,
        "y": 0.1
       },
       "content": {
        "cell": "f588155f-18cd-4ad3-bf61-12746e85cb71",
        "part": "whole"
       },
       "id": "40d90da9-34f5-4d8b-9bcf-8fd6ca7a34d6"
      }
     }
    },
    "768e64e3-108a-424b-aedc-445d28097c33": {
     "id": "768e64e3-108a-424b-aedc-445d28097c33",
     "prev": null,
     "regions": {
      "3372fa88-3f18-428a-ac4e-ff2299b81f8a": {
       "attrs": {
        "height": 0.8,
        "width": 0.8,
        "x": 0.1,
        "y": 0.1
       },
       "content": {
        "cell": "c75585ed-ee15-42f7-9be6-10f30745b231",
        "part": "whole"
       },
       "id": "3372fa88-3f18-428a-ac4e-ff2299b81f8a"
      }
     }
    },
    "a6ae0015-01d3-4550-8533-3f9405d7e6ac": {
     "id": "a6ae0015-01d3-4550-8533-3f9405d7e6ac",
     "prev": "ea35475e-1c00-4754-ba5f-305462eff799",
     "regions": {
      "c767f591-e23c-499f-a4c7-301482548bce": {
       "attrs": {
        "height": 0.8,
        "width": 0.8,
        "x": 0.1,
        "y": 0.1
       },
       "content": {
        "cell": "3c9a83d8-6684-42ac-a87b-15ad2cf6dc9a",
        "part": "whole"
       },
       "id": "c767f591-e23c-499f-a4c7-301482548bce"
      }
     }
    },
    "ea35475e-1c00-4754-ba5f-305462eff799": {
     "id": "ea35475e-1c00-4754-ba5f-305462eff799",
     "prev": "059c8865-351d-4dbd-88d4-7291ae57a4d4",
     "regions": {
      "55d815fa-4dd7-44f9-9c06-60dd697601c0": {
       "attrs": {
        "height": 0.8,
        "width": 0.8,
        "x": 0.1,
        "y": 0.1
       },
       "content": {
        "cell": "fe932a52-25b7-44ed-af2c-6f7323b958b8",
        "part": "whole"
       },
       "id": "55d815fa-4dd7-44f9-9c06-60dd697601c0"
      }
     }
    },
    "fbfa679d-b15b-47af-a7ce-af5ba34e7aac": {
     "id": "fbfa679d-b15b-47af-a7ce-af5ba34e7aac",
     "prev": "679a3bb8-82e4-477e-965d-11439180157f",
     "regions": {
      "f2174245-34e9-4195-82f8-a0b214760a6d": {
       "attrs": {
        "height": 0.4,
        "width": 0.8,
        "x": 0.1,
        "y": 0.5
       },
       "content": {
        "cell": "5e045cb1-1322-47d2-9852-46bbf1272f70",
        "part": "whole"
       },
       "id": "f2174245-34e9-4195-82f8-a0b214760a6d"
      },
      "ff98bf24-d664-48aa-b248-7c85948b37f0": {
       "attrs": {
        "height": 0.8,
        "width": 0.8,
        "x": 0.1,
        "y": 0.1
       },
       "content": {
        "cell": "d835b654-7e4e-498a-b7f6-289b3ec971d0",
        "part": "whole"
       },
       "id": "ff98bf24-d664-48aa-b248-7c85948b37f0"
      }
     }
    }
   },
   "themes": {}
  }
 },
 "nbformat": 4,
 "nbformat_minor": 0
}
